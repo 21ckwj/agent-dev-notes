{
 "cells": [
  {
   "cell_type": "markdown",
   "id": "3e205c6f",
   "metadata": {},
   "source": [
    "# Tool practice\n",
    "* 웹 검색 tool practice\n",
    "* llm model: llama3.1:8b\n",
    "* 날씨 검색을 해주는 agent 구축"
   ]
  },
  {
   "cell_type": "code",
   "execution_count": null,
   "id": "0b662137",
   "metadata": {},
   "outputs": [],
   "source": [
    "from langchain.tools import tool\n",
    "from typing import List, Dict, Annotated"
   ]
  },
  {
   "cell_type": "code",
   "execution_count": null,
   "id": "c5baf7ef",
   "metadata": {},
   "outputs": [],
   "source": [
    "from langchain_core.tools import tool\n",
    "import requests\n",
    "from bs4 import BeautifulSoup\n",
    "\n",
    "# @tool : Langchain에서 함수를 에이전트가 사용할 수 있는 도구로 등록하는 데코레이터\n",
    "@tool\n",
    "def search_web(query: str) -> str:\n",
    "    \"\"\"웹에서 검색을 수행한다. 결과 요약을 반환한다.\"\"\"\n",
    "    # 여긴 실제 검색 API나 자체 검색을 붙이면 됨 (지금은 고정 반환)\n",
    "    # API 이후 \n",
    "    return f\"https://search.naver.com/search.naver?query={query}\"\n",
    "\n",
    "@tool\n",
    "def open_url(url: str) -> str:\n",
    "    \"\"\"지정된 날씨 url 본문을 가져오는 함수\"\"\"\n",
    "    try:\n",
    "        response = requests.get(url)\n",
    "        soup = BeautifulSoup(response.text, 'html.parser')\n",
    "        return soup.get_text(separator=\"\\n\")\n",
    "    \n",
    "    except:\n",
    "        return \"페이지를 열 수 없습니다.\"\n"
   ]
  },
  {
   "cell_type": "code",
   "execution_count": null,
   "id": "0cbc0f4c",
   "metadata": {},
   "outputs": [],
   "source": []
  }
 ],
 "metadata": {
  "kernelspec": {
   "display_name": "3.11.9",
   "language": "python",
   "name": "python3"
  },
  "language_info": {
   "codemirror_mode": {
    "name": "ipython",
    "version": 3
   },
   "file_extension": ".py",
   "mimetype": "text/x-python",
   "name": "python",
   "nbconvert_exporter": "python",
   "pygments_lexer": "ipython3",
   "version": "3.11.9"
  }
 },
 "nbformat": 4,
 "nbformat_minor": 5
}
