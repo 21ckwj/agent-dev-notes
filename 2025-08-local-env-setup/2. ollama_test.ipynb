{
 "cells": [
  {
   "cell_type": "markdown",
   "id": "94681afa",
   "metadata": {},
   "source": [
    "# 로컬 Ollama 모델 성능 테스트\n",
    "* 모델명: ollama 3.1b:8b\n",
    "* 3가지 질문: 1.텍스트 생성능력 2.요약 능력 3. 정형데이터 파악 능력 "
   ]
  },
  {
   "cell_type": "code",
   "execution_count": 1,
   "id": "90cce9b5",
   "metadata": {},
   "outputs": [],
   "source": [
    "import requests\n",
    "\n",
    "def run_ollama(model: str, prompt: str) -> str:\n",
    "    url = \"http://localhost:11434/api/generate\"\n",
    "    payload = {\n",
    "        \"model\": model,\n",
    "        \"prompt\": prompt,\n",
    "        \"stream\": False\n",
    "    }\n",
    "\n",
    "    response = requests.post(url, json=payload)\n",
    "    response.raise_for_status()\n",
    "    return response.json()[\"response\"]"
   ]
  },
  {
   "cell_type": "markdown",
   "id": "d381fe4d",
   "metadata": {},
   "source": [
    "# 생성능력"
   ]
  },
  {
   "cell_type": "code",
   "execution_count": null,
   "id": "e0d757b5",
   "metadata": {},
   "outputs": [
    {
     "data": {
      "text/plain": [
       "'협업, 서로가 성장하는 공간입니다.\\n\\n일상생활과 함께 일하기도 어렵지만, 공동으로 문제를 해결해나가는 것은 협력을 통해 가능합니다. 사람들과의 협력은 결국 팀워크에 의미를 부여하며, 더 큰 것을 이루는 것입니다.'"
      ]
     },
     "execution_count": 2,
     "metadata": {},
     "output_type": "execute_result"
    }
   ],
   "source": [
    "model = \"llama3.1:8b\"\n",
    "prompt = \"협업의 중요성 주제로 짧은 글 써줘.\"\n",
    "run_ollama(model, prompt) # 답변 시간 27초"
   ]
  },
  {
   "cell_type": "code",
   "execution_count": null,
   "id": "d9d177fa",
   "metadata": {},
   "outputs": [],
   "source": [
    "model = \"llama3.1:8b\"\n",
    "prompt = \"\"\n",
    "run_ollama(model, prompt) # 답변 시간 27초"
   ]
  },
  {
   "cell_type": "markdown",
   "id": "12c583d8",
   "metadata": {},
   "source": [
    "# 요약 능력"
   ]
  },
  {
   "cell_type": "code",
   "execution_count": null,
   "id": "49458fbe",
   "metadata": {},
   "outputs": [
    {
     "name": "stdout",
     "output_type": "stream",
     "text": [
      "2025년 7월 29일 마케팅 전략 기획 회의에서 논의된 주요 내용은 다음과 같습니다.\n",
      "\n",
      "* 온라인 매출이 18% 증가했으며, 특히 20대 여성 타겟 제품의 반응이 좋았습니다.\n",
      "* 오프라인 매장은 매출이 6% 감소했습니다. 주중 방문객 수가 줄어든 것이 주요 원인입니다.\n",
      "* 하반기 캠페인은 SNS 중심의 브랜드 캠페인을 기획하고, 인플루언서 연계 프로모션도 고려합니다.\n",
      "* 온라인 광고 집행 예산을 15% 확대 요청했습니다.\n"
     ]
    }
   ],
   "source": [
    "from langchain.llms import Ollama\n",
    "from langchain.prompts import PromptTemplate\n",
    "from langchain.chains import LLMChain\n",
    "\n",
    "model = \"llama3.1:8b\"\n",
    "llm = Ollama(model=model,\n",
    "             temperature=0)\n",
    "\n",
    "template = \"\"\"\n",
    "다음은 회의록 내용입니다. 핵심 내용을 간결하게 요약해주세요.\n",
    "\n",
    "회의록 전문: \n",
    "{transcript}\n",
    "\n",
    "요약:\n",
    "\"\"\"\n",
    "\n",
    "prompt = PromptTemplate(\n",
    "    template= template,\n",
    "    input_variables=[\"transcript\"]\n",
    ")\n",
    "\n",
    "meeting_context = \"\"\"[2025.07.29] 마케팅 전략 기획 회의록\n",
    "\n",
    "참석자: 김대리, 이과장, 박부장, 최팀장\n",
    "\n",
    "1. 2분기 매출 분석\n",
    "- 김대리: 온라인 채널의 매출이 전년 대비 18% 증가했으며, 특히 20대 여성 타겟 제품의 반응이 좋았음.\n",
    "- 이과장: 오프라인 매장은 매출이 6% 감소. 주중 방문객 수가 줄어든 것이 주요 원인으로 보임.\n",
    "\n",
    "2. 하반기 캠페인 방향\n",
    "- 박부장: SNS 중심의 브랜드 캠페인 기획 필요. 8월 중순부터 티저 콘텐츠 배포 시작 예정.\n",
    "- 최팀장: 인플루언서 연계 프로모션도 고려 중. 타겟층은 20~30대 여성으로 집중.\n",
    "\n",
    "3. 예산 관련 논의\n",
    "- 김대리: 온라인 광고 집행 예산을 기존보다 15% 확대 요청.\n",
    "- 이과장: 오프라인 홍보비는 유지하되, 운영 시간 단축 등으로 절감 가능성 있음.\n",
    "\n",
    "4. 다음 회의 일정\n",
    "- 다음 회의는 8월 5일 오후 2시로 결정됨.\n",
    "\"\"\"\n",
    "\n",
    "\n",
    "chain = LLMChain(llm=llm, prompt=prompt)\n",
    "result = chain.invoke({\"transcript\": meeting_context})\n",
    "print(result['text'])"
   ]
  },
  {
   "cell_type": "markdown",
   "id": "9169f126",
   "metadata": {},
   "source": [
    "# 데이터처리 능력"
   ]
  },
  {
   "cell_type": "code",
   "execution_count": 9,
   "id": "871cbb1b",
   "metadata": {},
   "outputs": [
    {
     "data": {
      "text/html": [
       "<div>\n",
       "<style scoped>\n",
       "    .dataframe tbody tr th:only-of-type {\n",
       "        vertical-align: middle;\n",
       "    }\n",
       "\n",
       "    .dataframe tbody tr th {\n",
       "        vertical-align: top;\n",
       "    }\n",
       "\n",
       "    .dataframe thead th {\n",
       "        text-align: right;\n",
       "    }\n",
       "</style>\n",
       "<table border=\"1\" class=\"dataframe\">\n",
       "  <thead>\n",
       "    <tr style=\"text-align: right;\">\n",
       "      <th></th>\n",
       "      <th>sepal length (cm)</th>\n",
       "      <th>sepal width (cm)</th>\n",
       "      <th>petal length (cm)</th>\n",
       "      <th>petal width (cm)</th>\n",
       "    </tr>\n",
       "  </thead>\n",
       "  <tbody>\n",
       "    <tr>\n",
       "      <th>0</th>\n",
       "      <td>5.1</td>\n",
       "      <td>3.5</td>\n",
       "      <td>1.4</td>\n",
       "      <td>0.2</td>\n",
       "    </tr>\n",
       "    <tr>\n",
       "      <th>1</th>\n",
       "      <td>4.9</td>\n",
       "      <td>3.0</td>\n",
       "      <td>1.4</td>\n",
       "      <td>0.2</td>\n",
       "    </tr>\n",
       "    <tr>\n",
       "      <th>2</th>\n",
       "      <td>4.7</td>\n",
       "      <td>3.2</td>\n",
       "      <td>1.3</td>\n",
       "      <td>0.2</td>\n",
       "    </tr>\n",
       "    <tr>\n",
       "      <th>3</th>\n",
       "      <td>4.6</td>\n",
       "      <td>3.1</td>\n",
       "      <td>1.5</td>\n",
       "      <td>0.2</td>\n",
       "    </tr>\n",
       "    <tr>\n",
       "      <th>4</th>\n",
       "      <td>5.0</td>\n",
       "      <td>3.6</td>\n",
       "      <td>1.4</td>\n",
       "      <td>0.2</td>\n",
       "    </tr>\n",
       "    <tr>\n",
       "      <th>...</th>\n",
       "      <td>...</td>\n",
       "      <td>...</td>\n",
       "      <td>...</td>\n",
       "      <td>...</td>\n",
       "    </tr>\n",
       "    <tr>\n",
       "      <th>145</th>\n",
       "      <td>6.7</td>\n",
       "      <td>3.0</td>\n",
       "      <td>5.2</td>\n",
       "      <td>2.3</td>\n",
       "    </tr>\n",
       "    <tr>\n",
       "      <th>146</th>\n",
       "      <td>6.3</td>\n",
       "      <td>2.5</td>\n",
       "      <td>5.0</td>\n",
       "      <td>1.9</td>\n",
       "    </tr>\n",
       "    <tr>\n",
       "      <th>147</th>\n",
       "      <td>6.5</td>\n",
       "      <td>3.0</td>\n",
       "      <td>5.2</td>\n",
       "      <td>2.0</td>\n",
       "    </tr>\n",
       "    <tr>\n",
       "      <th>148</th>\n",
       "      <td>6.2</td>\n",
       "      <td>3.4</td>\n",
       "      <td>5.4</td>\n",
       "      <td>2.3</td>\n",
       "    </tr>\n",
       "    <tr>\n",
       "      <th>149</th>\n",
       "      <td>5.9</td>\n",
       "      <td>3.0</td>\n",
       "      <td>5.1</td>\n",
       "      <td>1.8</td>\n",
       "    </tr>\n",
       "  </tbody>\n",
       "</table>\n",
       "<p>150 rows × 4 columns</p>\n",
       "</div>"
      ],
      "text/plain": [
       "     sepal length (cm)  sepal width (cm)  petal length (cm)  petal width (cm)\n",
       "0                  5.1               3.5                1.4               0.2\n",
       "1                  4.9               3.0                1.4               0.2\n",
       "2                  4.7               3.2                1.3               0.2\n",
       "3                  4.6               3.1                1.5               0.2\n",
       "4                  5.0               3.6                1.4               0.2\n",
       "..                 ...               ...                ...               ...\n",
       "145                6.7               3.0                5.2               2.3\n",
       "146                6.3               2.5                5.0               1.9\n",
       "147                6.5               3.0                5.2               2.0\n",
       "148                6.2               3.4                5.4               2.3\n",
       "149                5.9               3.0                5.1               1.8\n",
       "\n",
       "[150 rows x 4 columns]"
      ]
     },
     "execution_count": 9,
     "metadata": {},
     "output_type": "execute_result"
    }
   ],
   "source": [
    "from sklearn.datasets import load_iris, load_wine\n",
    "import pandas as pd\n",
    "\n",
    "data = load_iris()\n",
    "df = pd.DataFrame(data.data, columns=data.feature_names)\n",
    "df"
   ]
  },
  {
   "cell_type": "code",
   "execution_count": 10,
   "id": "d590380e",
   "metadata": {},
   "outputs": [
    {
     "name": "stderr",
     "output_type": "stream",
     "text": [
      "c:\\Users\\21ckw\\.pyenv\\pyenv-win\\versions\\3.11.9\\Lib\\site-packages\\langchain_experimental\\agents\\agent_toolkits\\pandas\\base.py:283: UserWarning: Received additional kwargs {'handle_parsing_errors': True} which are no longer supported.\n",
      "  warnings.warn(\n",
      "C:\\Users\\21ckw\\AppData\\Local\\Temp\\ipykernel_22480\\3014015688.py:21: LangChainDeprecationWarning: The method `Chain.run` was deprecated in langchain 0.1.0 and will be removed in 1.0. Use :meth:`~invoke` instead.\n",
      "  result = agent.run(prompt)\n"
     ]
    },
    {
     "name": "stdout",
     "output_type": "stream",
     "text": [
      "\n",
      "\n",
      "\u001b[1m> Entering new AgentExecutor chain...\u001b[0m\n",
      "\u001b[32;1m\u001b[1;3mThought: The data appears to be a dataset of flower measurements, specifically the sepal and petal lengths and widths.\n",
      "Action: python_repl_ast\n",
      "Action Input: print(df.info())\u001b[0m\u001b[36;1m\u001b[1;3m<class 'pandas.core.frame.DataFrame'>\n",
      "RangeIndex: 150 entries, 0 to 149\n",
      "Data columns (total 4 columns):\n",
      " #   Column             Non-Null Count  Dtype  \n",
      "---  ------             --------------  -----  \n",
      " 0   sepal length (cm)  150 non-null    float64\n",
      " 1   sepal width (cm)   150 non-null    float64\n",
      " 2   petal length (cm)  150 non-null    float64\n",
      " 3   petal width (cm)   150 non-null    float64\n",
      "dtypes: float64(4)\n",
      "memory usage: 4.8 KB\n",
      "None\n",
      "\u001b[0m\u001b[32;1m\u001b[1;3mIt seems like you want me to explain the data and its statistical significance.\n",
      "\n",
      "Action: python_repl_ast\n",
      "Action Input: print(df.describe())\u001b[0m\u001b[36;1m\u001b[1;3m       sepal length (cm)  sepal width (cm)  petal length (cm)  \\\n",
      "count         150.000000        150.000000         150.000000   \n",
      "mean            5.843333          3.057333           3.758000   \n",
      "std             0.828066          0.435866           1.765298   \n",
      "min             4.300000          2.000000           1.000000   \n",
      "25%             5.100000          2.800000           1.600000   \n",
      "50%             5.800000          3.000000           4.350000   \n",
      "75%             6.400000          3.300000           5.100000   \n",
      "max             7.900000          4.400000           6.900000   \n",
      "\n",
      "       petal width (cm)  \n",
      "count        150.000000  \n",
      "mean           1.199333  \n",
      "std            0.762238  \n",
      "min            0.100000  \n",
      "25%            0.300000  \n",
      "50%            1.300000  \n",
      "75%            1.800000  \n",
      "max            2.500000  \n",
      "\u001b[0m\u001b[32;1m\u001b[1;3mThought: I now know the final answer.\n",
      "\n",
      "Final Answer: \n",
      "이 데이터는 꽃의 측정치로 구성된 데이터셋입니다. Sepal과 Petal의 길이와 너비를 포함합니다.\n",
      "통계적으로, 이 데이터는 다음과 같은 의미를 가지고 있습니다:\n",
      "- Sepal length (cm)의 평균은 5.84 cm이고 표준편차는 0.83 cm입니다.\n",
      "- Sepal width (cm)의 평균은 3.06 cm이고 표준편차는 0.44 cm입니다.\n",
      "- Petal length (cm)의 평균은 3.76 cm이고 표준편차는 1.77 cm입니다.\n",
      "- Petal width (cm)의 평균은 1.20 cm이고 표준편차는 0.76 cm입니다.\n",
      "이 데이터는 꽃의 형태와 크기와 관련된 통계적 특징을 제공합니다.\u001b[0m\n",
      "\n",
      "\u001b[1m> Finished chain.\u001b[0m\n"
     ]
    },
    {
     "data": {
      "text/plain": [
       "'이 데이터는 꽃의 측정치로 구성된 데이터셋입니다. Sepal과 Petal의 길이와 너비를 포함합니다.\\n통계적으로, 이 데이터는 다음과 같은 의미를 가지고 있습니다:\\n- Sepal length (cm)의 평균은 5.84 cm이고 표준편차는 0.83 cm입니다.\\n- Sepal width (cm)의 평균은 3.06 cm이고 표준편차는 0.44 cm입니다.\\n- Petal length (cm)의 평균은 3.76 cm이고 표준편차는 1.77 cm입니다.\\n- Petal width (cm)의 평균은 1.20 cm이고 표준편차는 0.76 cm입니다.\\n이 데이터는 꽃의 형태와 크기와 관련된 통계적 특징을 제공합니다.'"
      ]
     },
     "execution_count": 10,
     "metadata": {},
     "output_type": "execute_result"
    }
   ],
   "source": [
    "from langchain.llms import Ollama\n",
    "from langchain_experimental.agents import create_pandas_dataframe_agent\n",
    "\n",
    "model = \"llama3.1:8b\"\n",
    "llm = Ollama(model=model,\n",
    "             temperature=0)\n",
    "\n",
    "agent = create_pandas_dataframe_agent(llm, \n",
    "                                      df, \n",
    "                                      verbose=True,\n",
    "                                      allow_dangerous_code=True,\n",
    "                                      handle_parsing_errors=True\n",
    "                                      )\n",
    "\n",
    "prompt = \"\"\"\n",
    "너는 최고의 데이터 분석가야. \n",
    "1. 어떤 데이터인지\n",
    "2. 어떤 통계적 의미를 가지고 있는지\n",
    "설명해줘.\n",
    "\"\"\"\n",
    "result = agent.run(prompt)\n",
    "result "
   ]
  }
 ],
 "metadata": {
  "kernelspec": {
   "display_name": "3.11.9",
   "language": "python",
   "name": "python3"
  },
  "language_info": {
   "codemirror_mode": {
    "name": "ipython",
    "version": 3
   },
   "file_extension": ".py",
   "mimetype": "text/x-python",
   "name": "python",
   "nbconvert_exporter": "python",
   "pygments_lexer": "ipython3",
   "version": "3.11.9"
  }
 },
 "nbformat": 4,
 "nbformat_minor": 5
}
