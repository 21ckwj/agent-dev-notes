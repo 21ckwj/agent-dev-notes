{
 "cells": [
  {
   "cell_type": "markdown",
   "id": "be602796",
   "metadata": {},
   "source": [
    "# Ollama 모델 설치 후 api 사용"
   ]
  },
  {
   "cell_type": "code",
   "execution_count": 2,
   "id": "cc29f4cf-9b6e-48fb-a1d5-a9cee634f7e4",
   "metadata": {},
   "outputs": [],
   "source": [
    "# pip install langchain"
   ]
  },
  {
   "cell_type": "code",
   "execution_count": 4,
   "id": "d622e8f3-9f98-4baf-806c-e0ace750744e",
   "metadata": {},
   "outputs": [],
   "source": [
    "# pip install -qU langchain-teddynote"
   ]
  },
  {
   "cell_type": "code",
   "execution_count": null,
   "id": "6aa6ba1d",
   "metadata": {},
   "outputs": [
    {
     "data": {
      "text/plain": [
       "<Response [404]>"
      ]
     },
     "execution_count": 13,
     "metadata": {},
     "output_type": "execute_result"
    }
   ],
   "source": [
    "import requests\n",
    "\n",
    "url = \"http://localhost:11434/api/generate\"\n",
    "payload = {\n",
    "    \"model\": \"llama3\", # 모델명을 정확히 써줘야 작동함\n",
    "    \"prompt\": \"한국의 수도는?\",\n",
    "    \"stream\": False\n",
    "}\n",
    "\n",
    "res = requests.post(url, json=payload)\n",
    "res"
   ]
  },
  {
   "cell_type": "code",
   "execution_count": 17,
   "id": "e0211885",
   "metadata": {},
   "outputs": [
    {
     "name": "stdout",
     "output_type": "stream",
     "text": [
      "AI(Artificial Intelligence)는 인공 지능을 의미하며, 인간의 지능을 모방하여 컴퓨터나 로봇으로 구현한 지능입니다.\n",
      "\n",
      "AI는 다양한 분야에서 발전을 거치며, 현재도 빠르게 발전하고 있습니다. AI 기술은 머신 러닝, 딥 러닝, 자연어 처리,Computer Vision 등 여러 가지 기술로 구성되어 있으며, 각 기술의 특징과 응용 사례를 살펴보면 다음과 같습니다.\n",
      "\n",
      "1. **머신 러닝(Machine Learning)**: 컴퓨터가 데이터에 대한 학습을 통해 향상되는 지능을 가지는 알고리즘입니다.\n",
      "2. **딥 러닝(Deep Learning)**: 머신 러닝에서 사용하는 기술 중 하나로, 신경망 구조를 사용하여 데이터를 분석합니다.\n",
      "3. **자연어 처리(Natural Language Processing, NLP)**: 컴퓨터가 인간 언어를 이해하고 해석하는 기술입니다.\n",
      "4. **Computer Vision**: 컴퓨터가 화상이나 영상 데이터를 분석하고 인식하는 기술입니다.\n",
      "\n",
      "AI 기술은 다음과 같은 다양한 분야에 적용할 수 있습니다:\n",
      "\n",
      "1. **인공지능(AI)**: 로봇, 자율주행차 등\n",
      "2. **스마트 홈(Smart Home)**: 가정에서 자동화된 시스템을 구축하는 것\n",
      "3. **의료**: 진단, 치료, 예방 등\n",
      "4. **금융**: 거래, 분석, 예측 등\n",
      "\n",
      "AI 기술의 장점은 다음과 같습니다:\n",
      "\n",
      "1. **자동화**: 많은 업무를 자동으로 처리할 수 있습니다.\n",
      "2. **개인화**: 개인 맞춤형 서비스 제공이 가능합니다.\n",
      "3. **예측**: 데이터를 분석하여 미래의 결과를 예측할 수 있습니다.\n",
      "\n",
      "그러나 AI 기술도 다음과 같은 단점이 있습니다:\n",
      "\n",
      "1. **부족한 지능**: 현재 AI는 인간의 지능을 완벽하게 모방하는 것은 어렵습니다.\n",
      "2. **보안**: AI가 공격에 취약하거나 취향에 따라 보안 설정이 바뀔 수 있습니다.\n",
      "\n",
      "AI 기술은 빠르게 발전하고 있습니다. 그러나 AI를 개발, 적용할 때는 다음과 같은 점을 고려해야 합니다:\n",
      "\n",
      "1. **책임감**: AI가 인간의 삶에 미치는 영향을 고려해야 합니다.\n",
      "2. **안정성**: AI가 안정적이고 신뢰할 수 있는지 확인해야 합니다.\n",
      "\n",
      "AI 기술은 많은 분야에서 혁신과 창조성을 가져올 것입니다. 따라서 AI를 이해하고 개발하는 능력을 키우는 것이 중요합니다.\n"
     ]
    }
   ],
   "source": [
    "import requests\n",
    "\n",
    "url = \"http://localhost:11434/api/chat\"\n",
    "payload = {\n",
    "    \"model\": \"llama3.1:8b\",\n",
    "    \"messages\": [\n",
    "        {\"role\": \"system\", \"content\": \"You are a helpful assistant.\"},\n",
    "        {\"role\": \"user\", \"content\": \"AI Agent에 대해 설명해주세요\"}\n",
    "    ],\n",
    "    \"stream\": False\n",
    "}\n",
    "\n",
    "response = requests.post(url, json=payload)\n",
    "print(response.json()[\"message\"][\"content\"])"
   ]
  },
  {
   "cell_type": "code",
   "execution_count": 11,
   "id": "a91a47ce",
   "metadata": {},
   "outputs": [
    {
     "data": {
      "text/plain": [
       "{'model': 'llama3.1:8b',\n",
       " 'created_at': '2025-07-21T12:17:26.757578Z',\n",
       " 'message': {'role': 'assistant', 'content': '서울입니다.'},\n",
       " 'done_reason': 'stop',\n",
       " 'done': True,\n",
       " 'total_duration': 13411216300,\n",
       " 'load_duration': 11013345800,\n",
       " 'prompt_eval_count': 18,\n",
       " 'prompt_eval_duration': 1738750100,\n",
       " 'eval_count': 4,\n",
       " 'eval_duration': 656717900}"
      ]
     },
     "execution_count": 11,
     "metadata": {},
     "output_type": "execute_result"
    }
   ],
   "source": [
    "response.json()"
   ]
  },
  {
   "cell_type": "markdown",
   "id": "e5fddb54",
   "metadata": {},
   "source": [
    "# API 호출 함수화\n",
    "1. chat : system, user prompt 구분\n",
    "2. generate: 하나의 prompt "
   ]
  },
  {
   "cell_type": "code",
   "execution_count": 3,
   "id": "2aed10e1",
   "metadata": {},
   "outputs": [],
   "source": [
    "def ask_ollama(model: str, prompt: str, system_prompt: str = \"You are a helpful assistant.\") -> str:\n",
    "    url = \"http://localhost:11434/api/chat\"\n",
    "    payload = {\n",
    "        \"model\": model,\n",
    "        \"messages\": [\n",
    "            {\"role\": \"system\", \"content\": system_prompt},\n",
    "            {\"role\": \"user\", \"content\": prompt}\n",
    "        ],\n",
    "        \"stream\": False\n",
    "    }\n",
    "\n",
    "    response = requests.post(url, json=payload)\n",
    "    response.raise_for_status()  # 요청 실패 시 예외 발생\n",
    "    return response.json()[\"message\"][\"content\"]"
   ]
  },
  {
   "cell_type": "code",
   "execution_count": 6,
   "id": "d2efe36c",
   "metadata": {},
   "outputs": [
    {
     "data": {
      "text/plain": [
       "'AI AGENT란 말은 \"인공 지능\"을 사용하는 소프트웨어를 의미합니다.\\n\\nAI Agent는 특정한 목적을 가진 프로그램으로, 사용자가 명령을 내리고 프로그램이 그 명령에 따라 행동합니다.\\n\\n예를 들어, 자율 주행 자동차의 AI AGENT는 주변 환경을 감지하고 그 상황에 따라 속도를 조절하거나 안전하게 운전하는 역할을 합니다.\\n\\nAI Agent에는 학습형과 규칙기반 타입이 있습니다.'"
      ]
     },
     "execution_count": 6,
     "metadata": {},
     "output_type": "execute_result"
    }
   ],
   "source": [
    "model = \"llama3.1:8b\"\n",
    "prompt = \"AI agent에 대해 300자 이내로 설명해줘.\"\n",
    "ask_ollama(model, prompt, system_prompt=\"너는 최고의 AI 개발자야.\")"
   ]
  },
  {
   "cell_type": "code",
   "execution_count": null,
   "id": "b280698e",
   "metadata": {},
   "outputs": [],
   "source": [
    "import requests\n",
    "\n",
    "def run_ollama(model: str, prompt: str) -> str:\n",
    "    url = \"http://localhost:11434/api/generate\"\n",
    "    payload = {\n",
    "        \"model\": model,\n",
    "        \"prompt\": prompt,\n",
    "        \"stream\": False\n",
    "    }\n",
    "\n",
    "    response = requests.post(url, json=payload)\n",
    "    response.raise_for_status()\n",
    "    return response.json()[\"response\"]"
   ]
  },
  {
   "cell_type": "code",
   "execution_count": null,
   "id": "6c525171",
   "metadata": {},
   "outputs": [
    {
     "data": {
      "text/plain": [
       "'인공지능(AI) 에이전트는 컴퓨터 프로그램 또는 소프트웨어가 인간의 지적, 감정적 또는 직관적 특성을 모델링하거나 시뮬레이션하는 방식을 말합니다. AI 에이전트는 정보를 처리하고 학습하여 환경에 반응할 수 있는 능력을 갖추고 있습니다.\\n\\nAI 에이전트는 다음과 같은 분류로 나눌 수 있습니다:\\n\\n1. **신경망 기반**: 신경망(structured pattern recognizer)과 연관된 에이전트가 인간의 지적 또는 감정적 특성을 모델링하는 방식을 가집니다.\\n2. **규칙기반**: 규칙기반(Agent with explicit rules) AI 에이전트는 명시적인 제어 알고리즘을 기반으로 동작합니다.\\n3. **경험기반**: 경험기반(Epistemic Agent) 에이전트는 환경에서 학습하여 지식을 확장하는 방식을 가집니다.\\n\\nAI 에이전트의 예로는 Siri, Alexa 등 인공지능 기반 개인 보조도구가 있습니다.'"
      ]
     },
     "execution_count": 9,
     "metadata": {},
     "output_type": "execute_result"
    }
   ],
   "source": [
    "model = \"llama3.1:8b\"\n",
    "prompt = \"AI agent에 대해 300자 이내로 설명해줘.\"\n",
    "run_ollama(model, prompt)   "
   ]
  }
 ],
 "metadata": {
  "kernelspec": {
   "display_name": "3.11.9",
   "language": "python",
   "name": "python3"
  },
  "language_info": {
   "codemirror_mode": {
    "name": "ipython",
    "version": 3
   },
   "file_extension": ".py",
   "mimetype": "text/x-python",
   "name": "python",
   "nbconvert_exporter": "python",
   "pygments_lexer": "ipython3",
   "version": "3.11.9"
  }
 },
 "nbformat": 4,
 "nbformat_minor": 5
}
